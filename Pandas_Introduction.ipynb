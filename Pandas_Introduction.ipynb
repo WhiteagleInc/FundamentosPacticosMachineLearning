{
  "nbformat": 4,
  "nbformat_minor": 0,
  "metadata": {
    "colab": {
      "name": "Pandas_Introduction.ipynb",
      "provenance": [],
      "collapsed_sections": [],
      "mount_file_id": "1PXbYZ1QZXlhXfKRmVrQrT3jPAty-xLSm",
      "authorship_tag": "ABX9TyOgOIhXECWbl8FOXKHDWxtZ",
      "include_colab_link": true
    },
    "kernelspec": {
      "name": "python3",
      "display_name": "Python 3"
    }
  },
  "cells": [
    {
      "cell_type": "markdown",
      "metadata": {
        "id": "view-in-github",
        "colab_type": "text"
      },
      "source": [
        "<a href=\"https://colab.research.google.com/github/WhiteagleInc/FundamentosPacticosMachineLearning/blob/main/Pandas_Introduction.ipynb\" target=\"_parent\"><img src=\"https://colab.research.google.com/assets/colab-badge.svg\" alt=\"Open In Colab\"/></a>"
      ]
    },
    {
      "cell_type": "code",
      "metadata": {
        "id": "7iYv8KtHLfmO"
      },
      "source": [
        "import pandas as pd"
      ],
      "execution_count": 5,
      "outputs": []
    },
    {
      "cell_type": "code",
      "metadata": {
        "colab": {
          "base_uri": "https://localhost:8080/"
        },
        "id": "22CHA7Y0MB8W",
        "outputId": "7b4d4796-6b23-4f76-b410-41b9cf716358"
      },
      "source": [
        "series = pd.Series([5, 10, 15, 20, 25])\r\n",
        "series"
      ],
      "execution_count": 7,
      "outputs": [
        {
          "output_type": "execute_result",
          "data": {
            "text/plain": [
              "0     5\n",
              "1    10\n",
              "2    15\n",
              "3    20\n",
              "4    25\n",
              "dtype: int64"
            ]
          },
          "metadata": {
            "tags": []
          },
          "execution_count": 7
        }
      ]
    },
    {
      "cell_type": "code",
      "metadata": {
        "colab": {
          "base_uri": "https://localhost:8080/"
        },
        "id": "ymK8V_3MMSWE",
        "outputId": "3bb006df-c91c-4188-9241-417c8e767e6d"
      },
      "source": [
        "type(series)"
      ],
      "execution_count": 8,
      "outputs": [
        {
          "output_type": "execute_result",
          "data": {
            "text/plain": [
              "pandas.core.series.Series"
            ]
          },
          "metadata": {
            "tags": []
          },
          "execution_count": 8
        }
      ]
    },
    {
      "cell_type": "code",
      "metadata": {
        "colab": {
          "base_uri": "https://localhost:8080/"
        },
        "id": "mR8eGBcKMYQj",
        "outputId": "d86f10f1-c2c4-4b72-934b-1a96390790b1"
      },
      "source": [
        "series[3]"
      ],
      "execution_count": 9,
      "outputs": [
        {
          "output_type": "execute_result",
          "data": {
            "text/plain": [
              "20"
            ]
          },
          "metadata": {
            "tags": []
          },
          "execution_count": 9
        }
      ]
    },
    {
      "cell_type": "code",
      "metadata": {
        "colab": {
          "base_uri": "https://localhost:8080/"
        },
        "id": "RBuckVxXMcT4",
        "outputId": "bf440c00-3925-498b-97a6-cd2057a57974"
      },
      "source": [
        "cad = pd.Series(['p','l','a','t','z','i'])\r\n",
        "cad"
      ],
      "execution_count": 10,
      "outputs": [
        {
          "output_type": "execute_result",
          "data": {
            "text/plain": [
              "0    p\n",
              "1    l\n",
              "2    a\n",
              "3    t\n",
              "4    z\n",
              "5    i\n",
              "dtype: object"
            ]
          },
          "metadata": {
            "tags": []
          },
          "execution_count": 10
        }
      ]
    },
    {
      "cell_type": "code",
      "metadata": {
        "colab": {
          "base_uri": "https://localhost:8080/"
        },
        "id": "48s5PbDJMmnE",
        "outputId": "af76e8d5-e3b2-4219-c95f-1ef555128876"
      },
      "source": [
        "lst = ['Hola', 'mundo', 'robotico']\r\n",
        "df = pd.DataFrame(lst)\r\n",
        "print(df)"
      ],
      "execution_count": 12,
      "outputs": [
        {
          "output_type": "stream",
          "text": [
            "          0\n",
            "0      Hola\n",
            "1     mundo\n",
            "2  robotico\n"
          ],
          "name": "stdout"
        }
      ]
    },
    {
      "cell_type": "code",
      "metadata": {
        "colab": {
          "base_uri": "https://localhost:8080/",
          "height": 171
        },
        "id": "abvBH4vzM31K",
        "outputId": "a7805d6b-3f53-4c51-8ce3-69bbd9933393"
      },
      "source": [
        "data = { 'Nombre': ['Juan', 'Ana', 'Jose', 'Arturo'], 'Edad': [25, 18, 23, 27], 'Pais': ['MX', 'CO', 'BR', 'MX'] }\r\n",
        "df = pd.DataFrame(data)\r\n",
        "df"
      ],
      "execution_count": 13,
      "outputs": [
        {
          "output_type": "execute_result",
          "data": {
            "text/html": [
              "<div>\n",
              "<style scoped>\n",
              "    .dataframe tbody tr th:only-of-type {\n",
              "        vertical-align: middle;\n",
              "    }\n",
              "\n",
              "    .dataframe tbody tr th {\n",
              "        vertical-align: top;\n",
              "    }\n",
              "\n",
              "    .dataframe thead th {\n",
              "        text-align: right;\n",
              "    }\n",
              "</style>\n",
              "<table border=\"1\" class=\"dataframe\">\n",
              "  <thead>\n",
              "    <tr style=\"text-align: right;\">\n",
              "      <th></th>\n",
              "      <th>Nombre</th>\n",
              "      <th>Edad</th>\n",
              "      <th>Pais</th>\n",
              "    </tr>\n",
              "  </thead>\n",
              "  <tbody>\n",
              "    <tr>\n",
              "      <th>0</th>\n",
              "      <td>Juan</td>\n",
              "      <td>25</td>\n",
              "      <td>MX</td>\n",
              "    </tr>\n",
              "    <tr>\n",
              "      <th>1</th>\n",
              "      <td>Ana</td>\n",
              "      <td>18</td>\n",
              "      <td>CO</td>\n",
              "    </tr>\n",
              "    <tr>\n",
              "      <th>2</th>\n",
              "      <td>Jose</td>\n",
              "      <td>23</td>\n",
              "      <td>BR</td>\n",
              "    </tr>\n",
              "    <tr>\n",
              "      <th>3</th>\n",
              "      <td>Arturo</td>\n",
              "      <td>27</td>\n",
              "      <td>MX</td>\n",
              "    </tr>\n",
              "  </tbody>\n",
              "</table>\n",
              "</div>"
            ],
            "text/plain": [
              "   Nombre  Edad Pais\n",
              "0    Juan    25   MX\n",
              "1     Ana    18   CO\n",
              "2    Jose    23   BR\n",
              "3  Arturo    27   MX"
            ]
          },
          "metadata": {
            "tags": []
          },
          "execution_count": 13
        }
      ]
    },
    {
      "cell_type": "code",
      "metadata": {
        "colab": {
          "base_uri": "https://localhost:8080/"
        },
        "id": "Kjl_FTBQNkR8",
        "outputId": "1888e222-d3b0-48df-b0e5-045524e53b84"
      },
      "source": [
        "print(df[['Nombre', 'Pais']])"
      ],
      "execution_count": 14,
      "outputs": [
        {
          "output_type": "stream",
          "text": [
            "   Nombre Pais\n",
            "0    Juan   MX\n",
            "1     Ana   CO\n",
            "2    Jose   BR\n",
            "3  Arturo   MX\n"
          ],
          "name": "stdout"
        }
      ]
    },
    {
      "cell_type": "code",
      "metadata": {
        "colab": {
          "base_uri": "https://localhost:8080/",
          "height": 343
        },
        "id": "gXHkgR77NyTC",
        "outputId": "15b83f02-cbf4-4e20-ff8f-70211a861b82"
      },
      "source": [
        "data = pd.read_csv('sample_data/canciones-2018.csv')\n",
        "data.head(5)"
      ],
      "execution_count": 25,
      "outputs": [
        {
          "output_type": "execute_result",
          "data": {
            "text/html": [
              "<div>\n",
              "<style scoped>\n",
              "    .dataframe tbody tr th:only-of-type {\n",
              "        vertical-align: middle;\n",
              "    }\n",
              "\n",
              "    .dataframe tbody tr th {\n",
              "        vertical-align: top;\n",
              "    }\n",
              "\n",
              "    .dataframe thead th {\n",
              "        text-align: right;\n",
              "    }\n",
              "</style>\n",
              "<table border=\"1\" class=\"dataframe\">\n",
              "  <thead>\n",
              "    <tr style=\"text-align: right;\">\n",
              "      <th></th>\n",
              "      <th>id</th>\n",
              "      <th>name</th>\n",
              "      <th>artists</th>\n",
              "      <th>danceability</th>\n",
              "      <th>energy</th>\n",
              "      <th>key</th>\n",
              "      <th>loudness</th>\n",
              "      <th>mode</th>\n",
              "      <th>speechiness</th>\n",
              "      <th>acousticness</th>\n",
              "      <th>instrumentalness</th>\n",
              "      <th>liveness</th>\n",
              "      <th>valence</th>\n",
              "      <th>tempo</th>\n",
              "      <th>duration_ms</th>\n",
              "      <th>time_signature</th>\n",
              "    </tr>\n",
              "  </thead>\n",
              "  <tbody>\n",
              "    <tr>\n",
              "      <th>0</th>\n",
              "      <td>6DCZcSspjsKoFjzjrWoCd</td>\n",
              "      <td>God's Plan</td>\n",
              "      <td>Drake</td>\n",
              "      <td>0.754</td>\n",
              "      <td>0.449</td>\n",
              "      <td>7.0</td>\n",
              "      <td>-9.211</td>\n",
              "      <td>1.0</td>\n",
              "      <td>0.1090</td>\n",
              "      <td>0.0332</td>\n",
              "      <td>0.000083</td>\n",
              "      <td>0.552</td>\n",
              "      <td>0.357</td>\n",
              "      <td>77.169</td>\n",
              "      <td>198973.0</td>\n",
              "      <td>4.0</td>\n",
              "    </tr>\n",
              "    <tr>\n",
              "      <th>1</th>\n",
              "      <td>3ee8Jmje8o58CHK66QrVC</td>\n",
              "      <td>SAD!</td>\n",
              "      <td>XXXTENTACION</td>\n",
              "      <td>0.740</td>\n",
              "      <td>0.613</td>\n",
              "      <td>8.0</td>\n",
              "      <td>-4.880</td>\n",
              "      <td>1.0</td>\n",
              "      <td>0.1450</td>\n",
              "      <td>0.2580</td>\n",
              "      <td>0.003720</td>\n",
              "      <td>0.123</td>\n",
              "      <td>0.473</td>\n",
              "      <td>75.023</td>\n",
              "      <td>166606.0</td>\n",
              "      <td>4.0</td>\n",
              "    </tr>\n",
              "    <tr>\n",
              "      <th>2</th>\n",
              "      <td>0e7ipj03S05BNilyu5bRz</td>\n",
              "      <td>rockstar (feat. 21 Savage)</td>\n",
              "      <td>Post Malone</td>\n",
              "      <td>0.587</td>\n",
              "      <td>0.535</td>\n",
              "      <td>5.0</td>\n",
              "      <td>-6.090</td>\n",
              "      <td>0.0</td>\n",
              "      <td>0.0898</td>\n",
              "      <td>0.1170</td>\n",
              "      <td>0.000066</td>\n",
              "      <td>0.131</td>\n",
              "      <td>0.140</td>\n",
              "      <td>159.847</td>\n",
              "      <td>218147.0</td>\n",
              "      <td>4.0</td>\n",
              "    </tr>\n",
              "    <tr>\n",
              "      <th>3</th>\n",
              "      <td>3swc6WTsr7rl9DqQKQA55</td>\n",
              "      <td>Psycho (feat. Ty Dolla $ign)</td>\n",
              "      <td>Post Malone</td>\n",
              "      <td>0.739</td>\n",
              "      <td>0.559</td>\n",
              "      <td>8.0</td>\n",
              "      <td>-8.011</td>\n",
              "      <td>1.0</td>\n",
              "      <td>0.1170</td>\n",
              "      <td>0.5800</td>\n",
              "      <td>0.000000</td>\n",
              "      <td>0.112</td>\n",
              "      <td>0.439</td>\n",
              "      <td>140.124</td>\n",
              "      <td>221440.0</td>\n",
              "      <td>4.0</td>\n",
              "    </tr>\n",
              "    <tr>\n",
              "      <th>4</th>\n",
              "      <td>2G7V7zsVDxg1yRsu7Ew9R</td>\n",
              "      <td>In My Feelings</td>\n",
              "      <td>Drake</td>\n",
              "      <td>0.835</td>\n",
              "      <td>0.626</td>\n",
              "      <td>1.0</td>\n",
              "      <td>-5.833</td>\n",
              "      <td>1.0</td>\n",
              "      <td>0.1250</td>\n",
              "      <td>0.0589</td>\n",
              "      <td>0.000060</td>\n",
              "      <td>0.396</td>\n",
              "      <td>0.350</td>\n",
              "      <td>91.030</td>\n",
              "      <td>217925.0</td>\n",
              "      <td>4.0</td>\n",
              "    </tr>\n",
              "  </tbody>\n",
              "</table>\n",
              "</div>"
            ],
            "text/plain": [
              "                      id  ... time_signature\n",
              "0  6DCZcSspjsKoFjzjrWoCd  ...            4.0\n",
              "1  3ee8Jmje8o58CHK66QrVC  ...            4.0\n",
              "2  0e7ipj03S05BNilyu5bRz  ...            4.0\n",
              "3  3swc6WTsr7rl9DqQKQA55  ...            4.0\n",
              "4  2G7V7zsVDxg1yRsu7Ew9R  ...            4.0\n",
              "\n",
              "[5 rows x 16 columns]"
            ]
          },
          "metadata": {
            "tags": []
          },
          "execution_count": 25
        }
      ]
    },
    {
      "cell_type": "code",
      "metadata": {
        "colab": {
          "base_uri": "https://localhost:8080/",
          "height": 35
        },
        "id": "f5QBR8zOPXGv",
        "outputId": "498d0330-33f5-44f3-d8a8-10c947e015a5"
      },
      "source": [
        "artista = data.artists\r\n",
        "artista[5]"
      ],
      "execution_count": 26,
      "outputs": [
        {
          "output_type": "execute_result",
          "data": {
            "application/vnd.google.colaboratory.intrinsic+json": {
              "type": "string"
            },
            "text/plain": [
              "'Post Malone'"
            ]
          },
          "metadata": {
            "tags": []
          },
          "execution_count": 26
        }
      ]
    },
    {
      "cell_type": "code",
      "metadata": {
        "colab": {
          "base_uri": "https://localhost:8080/"
        },
        "id": "QHVyoGehPehm",
        "outputId": "0eb782c5-6f3f-4b0f-e965-26ebb9d22d2a"
      },
      "source": [
        "info = data.iloc[15]\r\n",
        "info"
      ],
      "execution_count": 27,
      "outputs": [
        {
          "output_type": "execute_result",
          "data": {
            "text/plain": [
              "id                     3GCdLUSnKSMJhs4Tj6CV3\n",
              "name                All The Stars (with SZA)\n",
              "artists                       Kendrick Lamar\n",
              "danceability                           0.698\n",
              "energy                                 0.633\n",
              "key                                        8\n",
              "loudness                              -4.946\n",
              "mode                                       1\n",
              "speechiness                           0.0597\n",
              "acousticness                          0.0605\n",
              "instrumentalness                    0.000194\n",
              "liveness                              0.0926\n",
              "valence                                0.552\n",
              "tempo                                 96.924\n",
              "duration_ms                           232187\n",
              "time_signature                             4\n",
              "Name: 15, dtype: object"
            ]
          },
          "metadata": {
            "tags": []
          },
          "execution_count": 27
        }
      ]
    },
    {
      "cell_type": "code",
      "metadata": {
        "colab": {
          "base_uri": "https://localhost:8080/",
          "height": 395
        },
        "id": "gC4oRYU7PmOD",
        "outputId": "bc8c3f9e-b477-40a5-a024-345edc3352c4"
      },
      "source": [
        "data.tail()"
      ],
      "execution_count": 28,
      "outputs": [
        {
          "output_type": "execute_result",
          "data": {
            "text/html": [
              "<div>\n",
              "<style scoped>\n",
              "    .dataframe tbody tr th:only-of-type {\n",
              "        vertical-align: middle;\n",
              "    }\n",
              "\n",
              "    .dataframe tbody tr th {\n",
              "        vertical-align: top;\n",
              "    }\n",
              "\n",
              "    .dataframe thead th {\n",
              "        text-align: right;\n",
              "    }\n",
              "</style>\n",
              "<table border=\"1\" class=\"dataframe\">\n",
              "  <thead>\n",
              "    <tr style=\"text-align: right;\">\n",
              "      <th></th>\n",
              "      <th>id</th>\n",
              "      <th>name</th>\n",
              "      <th>artists</th>\n",
              "      <th>danceability</th>\n",
              "      <th>energy</th>\n",
              "      <th>key</th>\n",
              "      <th>loudness</th>\n",
              "      <th>mode</th>\n",
              "      <th>speechiness</th>\n",
              "      <th>acousticness</th>\n",
              "      <th>instrumentalness</th>\n",
              "      <th>liveness</th>\n",
              "      <th>valence</th>\n",
              "      <th>tempo</th>\n",
              "      <th>duration_ms</th>\n",
              "      <th>time_signature</th>\n",
              "    </tr>\n",
              "  </thead>\n",
              "  <tbody>\n",
              "    <tr>\n",
              "      <th>95</th>\n",
              "      <td>630sXRhIcfwr2e4RdNtjK</td>\n",
              "      <td>Rewrite The Stars</td>\n",
              "      <td>Zac Efron</td>\n",
              "      <td>0.684</td>\n",
              "      <td>0.619</td>\n",
              "      <td>10.0</td>\n",
              "      <td>-7.005</td>\n",
              "      <td>1.0</td>\n",
              "      <td>0.0386</td>\n",
              "      <td>0.0716</td>\n",
              "      <td>0.000000</td>\n",
              "      <td>0.1220</td>\n",
              "      <td>0.2840</td>\n",
              "      <td>125.046</td>\n",
              "      <td>217440.0</td>\n",
              "      <td>4.0</td>\n",
              "    </tr>\n",
              "    <tr>\n",
              "      <th>96</th>\n",
              "      <td>2xmrfQpmS2iJExTlklLoA</td>\n",
              "      <td>I Miss You (feat. Julia Michaels)</td>\n",
              "      <td>Clean Bandit</td>\n",
              "      <td>0.638</td>\n",
              "      <td>0.658</td>\n",
              "      <td>3.0</td>\n",
              "      <td>-6.318</td>\n",
              "      <td>1.0</td>\n",
              "      <td>0.0456</td>\n",
              "      <td>0.2450</td>\n",
              "      <td>0.000004</td>\n",
              "      <td>0.0919</td>\n",
              "      <td>0.3300</td>\n",
              "      <td>105.076</td>\n",
              "      <td>205748.0</td>\n",
              "      <td>4.0</td>\n",
              "    </tr>\n",
              "    <tr>\n",
              "      <th>97</th>\n",
              "      <td>5WvAo7DNuPRmk4APhdPzi</td>\n",
              "      <td>No Brainer</td>\n",
              "      <td>DJ Khaled</td>\n",
              "      <td>0.552</td>\n",
              "      <td>0.760</td>\n",
              "      <td>0.0</td>\n",
              "      <td>-4.706</td>\n",
              "      <td>1.0</td>\n",
              "      <td>0.3420</td>\n",
              "      <td>0.0733</td>\n",
              "      <td>0.000000</td>\n",
              "      <td>0.0865</td>\n",
              "      <td>0.6390</td>\n",
              "      <td>135.702</td>\n",
              "      <td>260000.0</td>\n",
              "      <td>5.0</td>\n",
              "    </tr>\n",
              "    <tr>\n",
              "      <th>98</th>\n",
              "      <td>1j4kHkkpqZRBwE0A4CN4Y</td>\n",
              "      <td>Dusk Till Dawn - Radio Edit</td>\n",
              "      <td>ZAYN</td>\n",
              "      <td>0.258</td>\n",
              "      <td>0.437</td>\n",
              "      <td>11.0</td>\n",
              "      <td>-6.593</td>\n",
              "      <td>0.0</td>\n",
              "      <td>0.0390</td>\n",
              "      <td>0.1010</td>\n",
              "      <td>0.000001</td>\n",
              "      <td>0.1060</td>\n",
              "      <td>0.0967</td>\n",
              "      <td>180.043</td>\n",
              "      <td>239000.0</td>\n",
              "      <td>4.0</td>\n",
              "    </tr>\n",
              "    <tr>\n",
              "      <th>99</th>\n",
              "      <td>3EPXxR3ImUwfayaurPi3c</td>\n",
              "      <td>Be Alright</td>\n",
              "      <td>Dean Lewis</td>\n",
              "      <td>0.553</td>\n",
              "      <td>0.586</td>\n",
              "      <td>11.0</td>\n",
              "      <td>-6.319</td>\n",
              "      <td>1.0</td>\n",
              "      <td>0.0362</td>\n",
              "      <td>0.6970</td>\n",
              "      <td>0.000000</td>\n",
              "      <td>0.0813</td>\n",
              "      <td>0.4430</td>\n",
              "      <td>126.684</td>\n",
              "      <td>196373.0</td>\n",
              "      <td>4.0</td>\n",
              "    </tr>\n",
              "  </tbody>\n",
              "</table>\n",
              "</div>"
            ],
            "text/plain": [
              "                       id  ... time_signature\n",
              "95  630sXRhIcfwr2e4RdNtjK  ...            4.0\n",
              "96  2xmrfQpmS2iJExTlklLoA  ...            4.0\n",
              "97  5WvAo7DNuPRmk4APhdPzi  ...            5.0\n",
              "98  1j4kHkkpqZRBwE0A4CN4Y  ...            4.0\n",
              "99  3EPXxR3ImUwfayaurPi3c  ...            4.0\n",
              "\n",
              "[5 rows x 16 columns]"
            ]
          },
          "metadata": {
            "tags": []
          },
          "execution_count": 28
        }
      ]
    },
    {
      "cell_type": "code",
      "metadata": {
        "colab": {
          "base_uri": "https://localhost:8080/"
        },
        "id": "wdqnPle3Pq7u",
        "outputId": "02a46677-1cc7-46c5-fd0e-c4b063ebacf1"
      },
      "source": [
        "data.shape"
      ],
      "execution_count": 29,
      "outputs": [
        {
          "output_type": "execute_result",
          "data": {
            "text/plain": [
              "(100, 16)"
            ]
          },
          "metadata": {
            "tags": []
          },
          "execution_count": 29
        }
      ]
    },
    {
      "cell_type": "code",
      "metadata": {
        "colab": {
          "base_uri": "https://localhost:8080/"
        },
        "id": "7PyrG9poP0ke",
        "outputId": "6285f522-2493-4e4c-e6dd-6136c1dcf645"
      },
      "source": [
        "data.columns"
      ],
      "execution_count": 30,
      "outputs": [
        {
          "output_type": "execute_result",
          "data": {
            "text/plain": [
              "Index(['id', 'name', 'artists', 'danceability', 'energy', 'key', 'loudness',\n",
              "       'mode', 'speechiness', 'acousticness', 'instrumentalness', 'liveness',\n",
              "       'valence', 'tempo', 'duration_ms', 'time_signature'],\n",
              "      dtype='object')"
            ]
          },
          "metadata": {
            "tags": []
          },
          "execution_count": 30
        }
      ]
    },
    {
      "cell_type": "code",
      "metadata": {
        "colab": {
          "base_uri": "https://localhost:8080/"
        },
        "id": "B-vx-6oMP3UI",
        "outputId": "5f9bc44c-6a17-4426-8661-efc18862ac46"
      },
      "source": [
        "data['tempo'].describe()"
      ],
      "execution_count": 32,
      "outputs": [
        {
          "output_type": "execute_result",
          "data": {
            "text/plain": [
              "count    100.000000\n",
              "mean     119.904180\n",
              "std       28.795984\n",
              "min       64.934000\n",
              "25%       95.730750\n",
              "50%      120.116000\n",
              "75%      140.022750\n",
              "max      198.075000\n",
              "Name: tempo, dtype: float64"
            ]
          },
          "metadata": {
            "tags": []
          },
          "execution_count": 32
        }
      ]
    },
    {
      "cell_type": "code",
      "metadata": {
        "colab": {
          "base_uri": "https://localhost:8080/",
          "height": 713
        },
        "id": "F0H-E1-cP-QV",
        "outputId": "b92f6cd9-4ee2-43a6-c7c5-32c594ee4413"
      },
      "source": [
        "data.sort_index(axis = 0, ascending = False)"
      ],
      "execution_count": 33,
      "outputs": [
        {
          "output_type": "execute_result",
          "data": {
            "text/html": [
              "<div>\n",
              "<style scoped>\n",
              "    .dataframe tbody tr th:only-of-type {\n",
              "        vertical-align: middle;\n",
              "    }\n",
              "\n",
              "    .dataframe tbody tr th {\n",
              "        vertical-align: top;\n",
              "    }\n",
              "\n",
              "    .dataframe thead th {\n",
              "        text-align: right;\n",
              "    }\n",
              "</style>\n",
              "<table border=\"1\" class=\"dataframe\">\n",
              "  <thead>\n",
              "    <tr style=\"text-align: right;\">\n",
              "      <th></th>\n",
              "      <th>id</th>\n",
              "      <th>name</th>\n",
              "      <th>artists</th>\n",
              "      <th>danceability</th>\n",
              "      <th>energy</th>\n",
              "      <th>key</th>\n",
              "      <th>loudness</th>\n",
              "      <th>mode</th>\n",
              "      <th>speechiness</th>\n",
              "      <th>acousticness</th>\n",
              "      <th>instrumentalness</th>\n",
              "      <th>liveness</th>\n",
              "      <th>valence</th>\n",
              "      <th>tempo</th>\n",
              "      <th>duration_ms</th>\n",
              "      <th>time_signature</th>\n",
              "    </tr>\n",
              "  </thead>\n",
              "  <tbody>\n",
              "    <tr>\n",
              "      <th>99</th>\n",
              "      <td>3EPXxR3ImUwfayaurPi3c</td>\n",
              "      <td>Be Alright</td>\n",
              "      <td>Dean Lewis</td>\n",
              "      <td>0.553</td>\n",
              "      <td>0.586</td>\n",
              "      <td>11.0</td>\n",
              "      <td>-6.319</td>\n",
              "      <td>1.0</td>\n",
              "      <td>0.0362</td>\n",
              "      <td>0.6970</td>\n",
              "      <td>0.000000</td>\n",
              "      <td>0.0813</td>\n",
              "      <td>0.4430</td>\n",
              "      <td>126.684</td>\n",
              "      <td>196373.0</td>\n",
              "      <td>4.0</td>\n",
              "    </tr>\n",
              "    <tr>\n",
              "      <th>98</th>\n",
              "      <td>1j4kHkkpqZRBwE0A4CN4Y</td>\n",
              "      <td>Dusk Till Dawn - Radio Edit</td>\n",
              "      <td>ZAYN</td>\n",
              "      <td>0.258</td>\n",
              "      <td>0.437</td>\n",
              "      <td>11.0</td>\n",
              "      <td>-6.593</td>\n",
              "      <td>0.0</td>\n",
              "      <td>0.0390</td>\n",
              "      <td>0.1010</td>\n",
              "      <td>0.000001</td>\n",
              "      <td>0.1060</td>\n",
              "      <td>0.0967</td>\n",
              "      <td>180.043</td>\n",
              "      <td>239000.0</td>\n",
              "      <td>4.0</td>\n",
              "    </tr>\n",
              "    <tr>\n",
              "      <th>97</th>\n",
              "      <td>5WvAo7DNuPRmk4APhdPzi</td>\n",
              "      <td>No Brainer</td>\n",
              "      <td>DJ Khaled</td>\n",
              "      <td>0.552</td>\n",
              "      <td>0.760</td>\n",
              "      <td>0.0</td>\n",
              "      <td>-4.706</td>\n",
              "      <td>1.0</td>\n",
              "      <td>0.3420</td>\n",
              "      <td>0.0733</td>\n",
              "      <td>0.000000</td>\n",
              "      <td>0.0865</td>\n",
              "      <td>0.6390</td>\n",
              "      <td>135.702</td>\n",
              "      <td>260000.0</td>\n",
              "      <td>5.0</td>\n",
              "    </tr>\n",
              "    <tr>\n",
              "      <th>96</th>\n",
              "      <td>2xmrfQpmS2iJExTlklLoA</td>\n",
              "      <td>I Miss You (feat. Julia Michaels)</td>\n",
              "      <td>Clean Bandit</td>\n",
              "      <td>0.638</td>\n",
              "      <td>0.658</td>\n",
              "      <td>3.0</td>\n",
              "      <td>-6.318</td>\n",
              "      <td>1.0</td>\n",
              "      <td>0.0456</td>\n",
              "      <td>0.2450</td>\n",
              "      <td>0.000004</td>\n",
              "      <td>0.0919</td>\n",
              "      <td>0.3300</td>\n",
              "      <td>105.076</td>\n",
              "      <td>205748.0</td>\n",
              "      <td>4.0</td>\n",
              "    </tr>\n",
              "    <tr>\n",
              "      <th>95</th>\n",
              "      <td>630sXRhIcfwr2e4RdNtjK</td>\n",
              "      <td>Rewrite The Stars</td>\n",
              "      <td>Zac Efron</td>\n",
              "      <td>0.684</td>\n",
              "      <td>0.619</td>\n",
              "      <td>10.0</td>\n",
              "      <td>-7.005</td>\n",
              "      <td>1.0</td>\n",
              "      <td>0.0386</td>\n",
              "      <td>0.0716</td>\n",
              "      <td>0.000000</td>\n",
              "      <td>0.1220</td>\n",
              "      <td>0.2840</td>\n",
              "      <td>125.046</td>\n",
              "      <td>217440.0</td>\n",
              "      <td>4.0</td>\n",
              "    </tr>\n",
              "    <tr>\n",
              "      <th>...</th>\n",
              "      <td>...</td>\n",
              "      <td>...</td>\n",
              "      <td>...</td>\n",
              "      <td>...</td>\n",
              "      <td>...</td>\n",
              "      <td>...</td>\n",
              "      <td>...</td>\n",
              "      <td>...</td>\n",
              "      <td>...</td>\n",
              "      <td>...</td>\n",
              "      <td>...</td>\n",
              "      <td>...</td>\n",
              "      <td>...</td>\n",
              "      <td>...</td>\n",
              "      <td>...</td>\n",
              "      <td>...</td>\n",
              "    </tr>\n",
              "    <tr>\n",
              "      <th>4</th>\n",
              "      <td>2G7V7zsVDxg1yRsu7Ew9R</td>\n",
              "      <td>In My Feelings</td>\n",
              "      <td>Drake</td>\n",
              "      <td>0.835</td>\n",
              "      <td>0.626</td>\n",
              "      <td>1.0</td>\n",
              "      <td>-5.833</td>\n",
              "      <td>1.0</td>\n",
              "      <td>0.1250</td>\n",
              "      <td>0.0589</td>\n",
              "      <td>0.000060</td>\n",
              "      <td>0.3960</td>\n",
              "      <td>0.3500</td>\n",
              "      <td>91.030</td>\n",
              "      <td>217925.0</td>\n",
              "      <td>4.0</td>\n",
              "    </tr>\n",
              "    <tr>\n",
              "      <th>3</th>\n",
              "      <td>3swc6WTsr7rl9DqQKQA55</td>\n",
              "      <td>Psycho (feat. Ty Dolla $ign)</td>\n",
              "      <td>Post Malone</td>\n",
              "      <td>0.739</td>\n",
              "      <td>0.559</td>\n",
              "      <td>8.0</td>\n",
              "      <td>-8.011</td>\n",
              "      <td>1.0</td>\n",
              "      <td>0.1170</td>\n",
              "      <td>0.5800</td>\n",
              "      <td>0.000000</td>\n",
              "      <td>0.1120</td>\n",
              "      <td>0.4390</td>\n",
              "      <td>140.124</td>\n",
              "      <td>221440.0</td>\n",
              "      <td>4.0</td>\n",
              "    </tr>\n",
              "    <tr>\n",
              "      <th>2</th>\n",
              "      <td>0e7ipj03S05BNilyu5bRz</td>\n",
              "      <td>rockstar (feat. 21 Savage)</td>\n",
              "      <td>Post Malone</td>\n",
              "      <td>0.587</td>\n",
              "      <td>0.535</td>\n",
              "      <td>5.0</td>\n",
              "      <td>-6.090</td>\n",
              "      <td>0.0</td>\n",
              "      <td>0.0898</td>\n",
              "      <td>0.1170</td>\n",
              "      <td>0.000066</td>\n",
              "      <td>0.1310</td>\n",
              "      <td>0.1400</td>\n",
              "      <td>159.847</td>\n",
              "      <td>218147.0</td>\n",
              "      <td>4.0</td>\n",
              "    </tr>\n",
              "    <tr>\n",
              "      <th>1</th>\n",
              "      <td>3ee8Jmje8o58CHK66QrVC</td>\n",
              "      <td>SAD!</td>\n",
              "      <td>XXXTENTACION</td>\n",
              "      <td>0.740</td>\n",
              "      <td>0.613</td>\n",
              "      <td>8.0</td>\n",
              "      <td>-4.880</td>\n",
              "      <td>1.0</td>\n",
              "      <td>0.1450</td>\n",
              "      <td>0.2580</td>\n",
              "      <td>0.003720</td>\n",
              "      <td>0.1230</td>\n",
              "      <td>0.4730</td>\n",
              "      <td>75.023</td>\n",
              "      <td>166606.0</td>\n",
              "      <td>4.0</td>\n",
              "    </tr>\n",
              "    <tr>\n",
              "      <th>0</th>\n",
              "      <td>6DCZcSspjsKoFjzjrWoCd</td>\n",
              "      <td>God's Plan</td>\n",
              "      <td>Drake</td>\n",
              "      <td>0.754</td>\n",
              "      <td>0.449</td>\n",
              "      <td>7.0</td>\n",
              "      <td>-9.211</td>\n",
              "      <td>1.0</td>\n",
              "      <td>0.1090</td>\n",
              "      <td>0.0332</td>\n",
              "      <td>0.000083</td>\n",
              "      <td>0.5520</td>\n",
              "      <td>0.3570</td>\n",
              "      <td>77.169</td>\n",
              "      <td>198973.0</td>\n",
              "      <td>4.0</td>\n",
              "    </tr>\n",
              "  </tbody>\n",
              "</table>\n",
              "<p>100 rows × 16 columns</p>\n",
              "</div>"
            ],
            "text/plain": [
              "                       id  ... time_signature\n",
              "99  3EPXxR3ImUwfayaurPi3c  ...            4.0\n",
              "98  1j4kHkkpqZRBwE0A4CN4Y  ...            4.0\n",
              "97  5WvAo7DNuPRmk4APhdPzi  ...            5.0\n",
              "96  2xmrfQpmS2iJExTlklLoA  ...            4.0\n",
              "95  630sXRhIcfwr2e4RdNtjK  ...            4.0\n",
              "..                    ...  ...            ...\n",
              "4   2G7V7zsVDxg1yRsu7Ew9R  ...            4.0\n",
              "3   3swc6WTsr7rl9DqQKQA55  ...            4.0\n",
              "2   0e7ipj03S05BNilyu5bRz  ...            4.0\n",
              "1   3ee8Jmje8o58CHK66QrVC  ...            4.0\n",
              "0   6DCZcSspjsKoFjzjrWoCd  ...            4.0\n",
              "\n",
              "[100 rows x 16 columns]"
            ]
          },
          "metadata": {
            "tags": []
          },
          "execution_count": 33
        }
      ]
    }
  ]
}